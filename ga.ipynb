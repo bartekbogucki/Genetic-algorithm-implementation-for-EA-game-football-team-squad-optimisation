{
 "cells": [
  {
   "cell_type": "markdown",
   "metadata": {},
   "source": [
    "Wczytanie bibliotek:"
   ]
  },
  {
   "cell_type": "code",
   "execution_count": 1,
   "metadata": {},
   "outputs": [],
   "source": [
    "import numpy as np\n",
    "import pandas as pd\n",
    "import random \n",
    "from random import randint\n",
    "import matplotlib.pyplot as plt"
   ]
  },
  {
   "cell_type": "markdown",
   "metadata": {},
   "source": [
    "Wczytanie zbioru danych:"
   ]
  },
  {
   "cell_type": "code",
   "execution_count": 2,
   "metadata": {},
   "outputs": [
    {
     "data": {
      "text/html": [
       "<div>\n",
       "<style scoped>\n",
       "    .dataframe tbody tr th:only-of-type {\n",
       "        vertical-align: middle;\n",
       "    }\n",
       "\n",
       "    .dataframe tbody tr th {\n",
       "        vertical-align: top;\n",
       "    }\n",
       "\n",
       "    .dataframe thead th {\n",
       "        text-align: right;\n",
       "    }\n",
       "</style>\n",
       "<table border=\"1\" class=\"dataframe\">\n",
       "  <thead>\n",
       "    <tr style=\"text-align: right;\">\n",
       "      <th></th>\n",
       "      <th>sofifa_id</th>\n",
       "      <th>player_url</th>\n",
       "      <th>short_name</th>\n",
       "      <th>long_name</th>\n",
       "      <th>player_positions</th>\n",
       "      <th>overall</th>\n",
       "      <th>potential</th>\n",
       "      <th>value_eur</th>\n",
       "      <th>wage_eur</th>\n",
       "      <th>age</th>\n",
       "      <th>...</th>\n",
       "      <th>lcb</th>\n",
       "      <th>cb</th>\n",
       "      <th>rcb</th>\n",
       "      <th>rb</th>\n",
       "      <th>gk</th>\n",
       "      <th>player_face_url</th>\n",
       "      <th>club_logo_url</th>\n",
       "      <th>club_flag_url</th>\n",
       "      <th>nation_logo_url</th>\n",
       "      <th>nation_flag_url</th>\n",
       "    </tr>\n",
       "  </thead>\n",
       "  <tbody>\n",
       "    <tr>\n",
       "      <th>0</th>\n",
       "      <td>158023</td>\n",
       "      <td>https://sofifa.com/player/158023/lionel-messi/...</td>\n",
       "      <td>L. Messi</td>\n",
       "      <td>Lionel Andrés Messi Cuccittini</td>\n",
       "      <td>RW, ST, CF</td>\n",
       "      <td>93</td>\n",
       "      <td>93</td>\n",
       "      <td>78000000.0</td>\n",
       "      <td>320000.0</td>\n",
       "      <td>34</td>\n",
       "      <td>...</td>\n",
       "      <td>50+3</td>\n",
       "      <td>50+3</td>\n",
       "      <td>50+3</td>\n",
       "      <td>61+3</td>\n",
       "      <td>19+3</td>\n",
       "      <td>https://cdn.sofifa.net/players/158/023/22_120.png</td>\n",
       "      <td>https://cdn.sofifa.net/teams/73/60.png</td>\n",
       "      <td>https://cdn.sofifa.net/flags/fr.png</td>\n",
       "      <td>https://cdn.sofifa.net/teams/1369/60.png</td>\n",
       "      <td>https://cdn.sofifa.net/flags/ar.png</td>\n",
       "    </tr>\n",
       "    <tr>\n",
       "      <th>1</th>\n",
       "      <td>188545</td>\n",
       "      <td>https://sofifa.com/player/188545/robert-lewand...</td>\n",
       "      <td>R. Lewandowski</td>\n",
       "      <td>Robert Lewandowski</td>\n",
       "      <td>ST</td>\n",
       "      <td>92</td>\n",
       "      <td>92</td>\n",
       "      <td>119500000.0</td>\n",
       "      <td>270000.0</td>\n",
       "      <td>32</td>\n",
       "      <td>...</td>\n",
       "      <td>60+3</td>\n",
       "      <td>60+3</td>\n",
       "      <td>60+3</td>\n",
       "      <td>61+3</td>\n",
       "      <td>19+3</td>\n",
       "      <td>https://cdn.sofifa.net/players/188/545/22_120.png</td>\n",
       "      <td>https://cdn.sofifa.net/teams/21/60.png</td>\n",
       "      <td>https://cdn.sofifa.net/flags/de.png</td>\n",
       "      <td>https://cdn.sofifa.net/teams/1353/60.png</td>\n",
       "      <td>https://cdn.sofifa.net/flags/pl.png</td>\n",
       "    </tr>\n",
       "    <tr>\n",
       "      <th>2</th>\n",
       "      <td>20801</td>\n",
       "      <td>https://sofifa.com/player/20801/c-ronaldo-dos-...</td>\n",
       "      <td>Cristiano Ronaldo</td>\n",
       "      <td>Cristiano Ronaldo dos Santos Aveiro</td>\n",
       "      <td>ST, LW</td>\n",
       "      <td>91</td>\n",
       "      <td>91</td>\n",
       "      <td>45000000.0</td>\n",
       "      <td>270000.0</td>\n",
       "      <td>36</td>\n",
       "      <td>...</td>\n",
       "      <td>53+3</td>\n",
       "      <td>53+3</td>\n",
       "      <td>53+3</td>\n",
       "      <td>60+3</td>\n",
       "      <td>20+3</td>\n",
       "      <td>https://cdn.sofifa.net/players/020/801/22_120.png</td>\n",
       "      <td>https://cdn.sofifa.net/teams/11/60.png</td>\n",
       "      <td>https://cdn.sofifa.net/flags/gb-eng.png</td>\n",
       "      <td>https://cdn.sofifa.net/teams/1354/60.png</td>\n",
       "      <td>https://cdn.sofifa.net/flags/pt.png</td>\n",
       "    </tr>\n",
       "    <tr>\n",
       "      <th>3</th>\n",
       "      <td>190871</td>\n",
       "      <td>https://sofifa.com/player/190871/neymar-da-sil...</td>\n",
       "      <td>Neymar Jr</td>\n",
       "      <td>Neymar da Silva Santos Júnior</td>\n",
       "      <td>LW, CAM</td>\n",
       "      <td>91</td>\n",
       "      <td>91</td>\n",
       "      <td>129000000.0</td>\n",
       "      <td>270000.0</td>\n",
       "      <td>29</td>\n",
       "      <td>...</td>\n",
       "      <td>50+3</td>\n",
       "      <td>50+3</td>\n",
       "      <td>50+3</td>\n",
       "      <td>62+3</td>\n",
       "      <td>20+3</td>\n",
       "      <td>https://cdn.sofifa.net/players/190/871/22_120.png</td>\n",
       "      <td>https://cdn.sofifa.net/teams/73/60.png</td>\n",
       "      <td>https://cdn.sofifa.net/flags/fr.png</td>\n",
       "      <td>NaN</td>\n",
       "      <td>https://cdn.sofifa.net/flags/br.png</td>\n",
       "    </tr>\n",
       "    <tr>\n",
       "      <th>4</th>\n",
       "      <td>192985</td>\n",
       "      <td>https://sofifa.com/player/192985/kevin-de-bruy...</td>\n",
       "      <td>K. De Bruyne</td>\n",
       "      <td>Kevin De Bruyne</td>\n",
       "      <td>CM, CAM</td>\n",
       "      <td>91</td>\n",
       "      <td>91</td>\n",
       "      <td>125500000.0</td>\n",
       "      <td>350000.0</td>\n",
       "      <td>30</td>\n",
       "      <td>...</td>\n",
       "      <td>69+3</td>\n",
       "      <td>69+3</td>\n",
       "      <td>69+3</td>\n",
       "      <td>75+3</td>\n",
       "      <td>21+3</td>\n",
       "      <td>https://cdn.sofifa.net/players/192/985/22_120.png</td>\n",
       "      <td>https://cdn.sofifa.net/teams/10/60.png</td>\n",
       "      <td>https://cdn.sofifa.net/flags/gb-eng.png</td>\n",
       "      <td>https://cdn.sofifa.net/teams/1325/60.png</td>\n",
       "      <td>https://cdn.sofifa.net/flags/be.png</td>\n",
       "    </tr>\n",
       "  </tbody>\n",
       "</table>\n",
       "<p>5 rows × 110 columns</p>\n",
       "</div>"
      ],
      "text/plain": [
       "   sofifa_id                                         player_url  \\\n",
       "0     158023  https://sofifa.com/player/158023/lionel-messi/...   \n",
       "1     188545  https://sofifa.com/player/188545/robert-lewand...   \n",
       "2      20801  https://sofifa.com/player/20801/c-ronaldo-dos-...   \n",
       "3     190871  https://sofifa.com/player/190871/neymar-da-sil...   \n",
       "4     192985  https://sofifa.com/player/192985/kevin-de-bruy...   \n",
       "\n",
       "          short_name                            long_name player_positions  \\\n",
       "0           L. Messi       Lionel Andrés Messi Cuccittini       RW, ST, CF   \n",
       "1     R. Lewandowski                   Robert Lewandowski               ST   \n",
       "2  Cristiano Ronaldo  Cristiano Ronaldo dos Santos Aveiro           ST, LW   \n",
       "3          Neymar Jr        Neymar da Silva Santos Júnior          LW, CAM   \n",
       "4       K. De Bruyne                      Kevin De Bruyne          CM, CAM   \n",
       "\n",
       "   overall  potential    value_eur  wage_eur  age  ...   lcb    cb   rcb  \\\n",
       "0       93         93   78000000.0  320000.0   34  ...  50+3  50+3  50+3   \n",
       "1       92         92  119500000.0  270000.0   32  ...  60+3  60+3  60+3   \n",
       "2       91         91   45000000.0  270000.0   36  ...  53+3  53+3  53+3   \n",
       "3       91         91  129000000.0  270000.0   29  ...  50+3  50+3  50+3   \n",
       "4       91         91  125500000.0  350000.0   30  ...  69+3  69+3  69+3   \n",
       "\n",
       "     rb    gk                                    player_face_url  \\\n",
       "0  61+3  19+3  https://cdn.sofifa.net/players/158/023/22_120.png   \n",
       "1  61+3  19+3  https://cdn.sofifa.net/players/188/545/22_120.png   \n",
       "2  60+3  20+3  https://cdn.sofifa.net/players/020/801/22_120.png   \n",
       "3  62+3  20+3  https://cdn.sofifa.net/players/190/871/22_120.png   \n",
       "4  75+3  21+3  https://cdn.sofifa.net/players/192/985/22_120.png   \n",
       "\n",
       "                            club_logo_url  \\\n",
       "0  https://cdn.sofifa.net/teams/73/60.png   \n",
       "1  https://cdn.sofifa.net/teams/21/60.png   \n",
       "2  https://cdn.sofifa.net/teams/11/60.png   \n",
       "3  https://cdn.sofifa.net/teams/73/60.png   \n",
       "4  https://cdn.sofifa.net/teams/10/60.png   \n",
       "\n",
       "                             club_flag_url  \\\n",
       "0      https://cdn.sofifa.net/flags/fr.png   \n",
       "1      https://cdn.sofifa.net/flags/de.png   \n",
       "2  https://cdn.sofifa.net/flags/gb-eng.png   \n",
       "3      https://cdn.sofifa.net/flags/fr.png   \n",
       "4  https://cdn.sofifa.net/flags/gb-eng.png   \n",
       "\n",
       "                            nation_logo_url  \\\n",
       "0  https://cdn.sofifa.net/teams/1369/60.png   \n",
       "1  https://cdn.sofifa.net/teams/1353/60.png   \n",
       "2  https://cdn.sofifa.net/teams/1354/60.png   \n",
       "3                                       NaN   \n",
       "4  https://cdn.sofifa.net/teams/1325/60.png   \n",
       "\n",
       "                       nation_flag_url  \n",
       "0  https://cdn.sofifa.net/flags/ar.png  \n",
       "1  https://cdn.sofifa.net/flags/pl.png  \n",
       "2  https://cdn.sofifa.net/flags/pt.png  \n",
       "3  https://cdn.sofifa.net/flags/br.png  \n",
       "4  https://cdn.sofifa.net/flags/be.png  \n",
       "\n",
       "[5 rows x 110 columns]"
      ]
     },
     "execution_count": 2,
     "metadata": {},
     "output_type": "execute_result"
    }
   ],
   "source": [
    "df = pd.read_csv(\"players_22.csv\", low_memory=False)\n",
    "df.head()"
   ]
  },
  {
   "cell_type": "markdown",
   "metadata": {},
   "source": [
    "Zdefiniowanie generowania sie pojedynczego skladu pilkarzy:"
   ]
  },
  {
   "cell_type": "code",
   "execution_count": 3,
   "metadata": {},
   "outputs": [],
   "source": [
    "#Najważniejsze atrybuty danego piłkarza potrzebne w analizie:\n",
    "class Player:\n",
    "    def __init__(self, name, overall, salary, position):\n",
    "        self.name = name\n",
    "        self.overall = overall\n",
    "        self.salary = salary\n",
    "        self.position = position"
   ]
  },
  {
   "cell_type": "code",
   "execution_count": 4,
   "metadata": {},
   "outputs": [],
   "source": [
    "#Generowanie gracza na daną pozycję tzn. poprzez zdefiniowanie zbioru player_df jako zbioru macierzystego, \n",
    "#ale z zawodnikami tylko dla danej pozycji:\n",
    "def generate_player(player_df, genes):\n",
    "    gen_df = player_df.sort_values(['overall'], ascending=False)\n",
    "    player = random.randint(0, len(gen_df)-1)\n",
    "    player_item = Player(\n",
    "        gen_df.iloc[player]['short_name'],\n",
    "        gen_df.iloc[player]['overall'],\n",
    "        gen_df.iloc[player]['wage_eur'],\n",
    "        gen_df.iloc[player]['club_position']\n",
    "    )\n",
    "    return player_item"
   ]
  },
  {
   "cell_type": "code",
   "execution_count": 5,
   "metadata": {},
   "outputs": [],
   "source": [
    "#Generowanie indywidualnego składu piłkarzy poprzezy wybór pojeynczych graczy na daną pozycję poprzez użycie funkcji\n",
    "#generate_player (wybór 2 dla pozycji CB):\n",
    "def create_individual(df):\n",
    "    genes = list()\n",
    "    positions = ['GK','LB','CB','RB','CDM','CM','CAM','LW','ST','RW']\n",
    "    for pos in positions:\n",
    "        player_df = df[df['club_position'] == pos]\n",
    "        for i in range(1):\n",
    "            player_item = generate_player(player_df, genes)\n",
    "            genes.append(player_item)\n",
    "        if pos == 'CB':\n",
    "            for i in range(1):\n",
    "                player_df=player_df[player_df['short_name'] != player_item.name]\n",
    "                player_item = generate_player(player_df, genes)\n",
    "                genes.append(player_item)\n",
    "\n",
    "    return genes"
   ]
  },
  {
   "cell_type": "markdown",
   "metadata": {},
   "source": [
    "Liczenie score'u danego zespołu:"
   ]
  },
  {
   "cell_type": "code",
   "execution_count": 6,
   "metadata": {},
   "outputs": [],
   "source": [
    "#Zdefiniowanie funkcji score do obliczania score dla danego wylosowanego zespołu - score jako suma overall zawodników,\n",
    "#dla pensji większych od maksymalnego budżetu score=0.\n",
    "def scoring(budget, individual):\n",
    "    score=0\n",
    "    salary=0\n",
    "    for player in individual:\n",
    "        score += player.overall\n",
    "        salary += player.salary\n",
    "\n",
    "    if float(budget-salary)<0:\n",
    "        score = 0\n",
    "        \n",
    "    return float(score)"
   ]
  },
  {
   "cell_type": "markdown",
   "metadata": {},
   "source": [
    "Inicjalna pula składów"
   ]
  },
  {
   "cell_type": "code",
   "execution_count": 7,
   "metadata": {},
   "outputs": [],
   "source": [
    "#Funkcja losująca inicjalną pulę rodzicielską w postaci num_parents składów zawodników, z default'u mamy w inicjalnej puli\n",
    "#rodzicielskiej 100 składów.\n",
    "def selection(df, initial_pop=100):\n",
    "    init_pop=[]\n",
    "    for i in range(initial_pop):\n",
    "        init_pop.append(create_individual(df))\n",
    "    return init_pop"
   ]
  },
  {
   "cell_type": "markdown",
   "metadata": {},
   "source": [
    "Operator selekcji - roullette wheel selection"
   ]
  },
  {
   "cell_type": "code",
   "execution_count": 8,
   "metadata": {},
   "outputs": [],
   "source": [
    "#Wybór losowego składu z danej puli składów z prawdopodbieństwem równym score dla danego składu podzielić przez score dla\n",
    "#wszystkich składów z puli\n",
    "def roulette_select(parent, budget, num):\n",
    "\n",
    "    fitness_list=[]\n",
    "    for i in range (len(parent)):\n",
    "        fitness_list.append(scoring(budget, parent[i]))\n",
    "        \n",
    "    total_fit = sum(fitness_list)\n",
    "    relative_fitness = [f/total_fit for f in fitness_list]\n",
    "    \n",
    "    parents = random.choices(parent, weights = relative_fitness, k = num)\n",
    "    return parents"
   ]
  },
  {
   "cell_type": "markdown",
   "metadata": {},
   "source": [
    "Operator krzyżowania - one-point crossover"
   ]
  },
  {
   "cell_type": "code",
   "execution_count": 9,
   "metadata": {},
   "outputs": [],
   "source": [
    "#Zastosowany operator krzyżowania to one-point crossover. W zdefiniowanej fukcji można wybrać sobie crossover_point, który \n",
    "#default'owo ustawiony jest na 5, tzn. krzyżowanie przebiega w ten sposób, że jeden offspring przyjmuje skład z \n",
    "#5 zawodnikami od pierwszego parent'a (pozycje: GK, LB, CB, CB, RB) oraz 6 zawodników następnych od drugiego (pozostałe\n",
    "#pozycje), a drugi offspring odwrotnie przyjmuje 5 od parenta'a drugiego (pozycje: GK, LB, CB, CB, RB) oraz 6 od pierwszego\n",
    "#(pozostałe pozycje). W zaimplementowanym krzyżowaniu nie ma problemu, że przez krzyżowanie powstaje skład z np. \n",
    "#dwoma bramkarzami.\n",
    "def crossover(parents, crossover_point=5):\n",
    "    i=0\n",
    "    num_offsprings=0\n",
    "    offsprings = [0]*len(parents)\n",
    "    while (num_offsprings < len(parents)):\n",
    "        try:\n",
    "            parent1_index = parents[i]\n",
    "            parent2_index = parents[i+1]\n",
    "            offsprings[i]=parent1_index[0:crossover_point]\n",
    "            offsprings[i][crossover_point:]=(parent2_index[crossover_point:])\n",
    "            offsprings[i+1]=parent1_index[crossover_point:]\n",
    "            offsprings[i+1][crossover_point:]=(parent2_index[0:crossover_point])\n",
    "        except:\n",
    "            offsprings[i]=parent1_index\n",
    "        i=i+2\n",
    "        num_offsprings=num_offsprings+2\n",
    "    return offsprings"
   ]
  },
  {
   "cell_type": "markdown",
   "metadata": {},
   "source": [
    "Operator mutacji"
   ]
  },
  {
   "cell_type": "code",
   "execution_count": 10,
   "metadata": {},
   "outputs": [],
   "source": [
    "#Zaimplementowany operator mutacji zmienia z danym mutation_rate pojedynczego zawodnika z danego składu z puli dzieci\n",
    "#offspring na innego zawodnika o tej samej pozycji ze zbioru wszystkich zawodników. Dzięki zmianie na zawodnika o tej \n",
    "#pozycji nie ma problemu z tym, że w danym składzie mamy np. dwóch bramkarzy. W zdefiniowanej funkcji można wybrać \n",
    "#mutation_rate, default'owo to 0.15.\n",
    "def mutate(offsprings, df, mutation_rate=0.15):\n",
    "    new_list= []\n",
    "    new = []\n",
    "    for i in range(len(offsprings)):\n",
    "        individual=offsprings[i]\n",
    "        for j in range(len(individual)):\n",
    "            player_df = df[df['club_position'] == individual[j].position]\n",
    "            if mutation_rate > random.random():\n",
    "                for k in range(1):\n",
    "                    player_item = generate_player(player_df, df)\n",
    "                new.append(player_item)\n",
    "            else:\n",
    "                new.append(individual[j])\n",
    "        new_list.append(new)\n",
    "        new=[]\n",
    "    return new_list"
   ]
  },
  {
   "cell_type": "markdown",
   "metadata": {},
   "source": [
    "Warunek ograniczający - budżet na pensje"
   ]
  },
  {
   "cell_type": "code",
   "execution_count": 39,
   "metadata": {},
   "outputs": [],
   "source": [
    "budget=500000\n",
    "num_parent=200"
   ]
  },
  {
   "cell_type": "markdown",
   "metadata": {},
   "source": [
    "Inicjalna iteracja algorytmu GA (pierwsza iteracja)"
   ]
  },
  {
   "cell_type": "code",
   "execution_count": 40,
   "metadata": {},
   "outputs": [],
   "source": [
    "#Inicjalna iteracja algorytmu GA. W pierwszym kroku losujemy daną pulę num_parent składów (100 składów), a następnie \n",
    "#przeprowadzamy kolejno algorytm selekcji, krzyżowania i mutacji. \n",
    "start=create_individual(df)\n",
    "init_pop = selection(df,num_parent)\n",
    "parents=roulette_select(init_pop, budget, num_parent)\n",
    "offsprings=crossover(parents)\n",
    "mutations=mutate(offsprings, df)\n",
    "best_score=0\n",
    "best_ind=start\n",
    "for i in (range(len(mutations))):\n",
    "    score = scoring(budget, mutations[i])\n",
    "    if score>best_score:\n",
    "        best_score=score\n",
    "        best_ind=mutations[i]\n",
    "    else:\n",
    "        pass"
   ]
  },
  {
   "cell_type": "markdown",
   "metadata": {},
   "source": [
    "Algorytm Genetic Algorithm"
   ]
  },
  {
   "cell_type": "code",
   "execution_count": 37,
   "metadata": {},
   "outputs": [],
   "source": [
    "#Z puli składów powstałej w wyniku pierwszej iteracji algorytmu przeprowadzamy kolejno algorytm selekcji, krzyżowania \n",
    "#i mutacji, otrzymując kolejną pulę dla której znowu stosujemy kolejno powyższe operatory. Dla funkcji można podać liczbę\n",
    "#iteracji default'owo ustawioną na 99. Funkcja na końcu zwraca najlepszy skład z puli po wykonaniu danej liczby iteracji.\n",
    "def GA(df, iterations=99, budget=budget, mutations=mutations, best_score=best_score, best_ind=best_ind):\n",
    "    for j in (range(iterations)):\n",
    "        parents=roulette_select(mutations,budget,num_parent)\n",
    "        offsprings=crossover(parents)\n",
    "        mutations=mutate(offsprings, df)\n",
    "        for i in (range(len(mutations))):\n",
    "            score = scoring(budget, mutations[i])\n",
    "            if score>best_score:\n",
    "                best_score=score\n",
    "                best_ind=mutations[i]\n",
    "        print(best_score)\n",
    "        j+=1\n",
    "    return best_ind"
   ]
  },
  {
   "cell_type": "markdown",
   "metadata": {},
   "source": [
    "Wynik algorytmu"
   ]
  },
  {
   "cell_type": "code",
   "execution_count": 41,
   "metadata": {},
   "outputs": [
    {
     "name": "stdout",
     "output_type": "stream",
     "text": [
      "809.0\n",
      "809.0\n",
      "810.0\n",
      "810.0\n",
      "810.0\n",
      "810.0\n",
      "810.0\n",
      "810.0\n",
      "810.0\n",
      "810.0\n",
      "810.0\n",
      "810.0\n",
      "810.0\n",
      "810.0\n"
     ]
    },
    {
     "data": {
      "text/plain": [
       "[<__main__.Player at 0x1fab2000760>,\n",
       " <__main__.Player at 0x1fab28e6880>,\n",
       " <__main__.Player at 0x1fab28e6a00>,\n",
       " <__main__.Player at 0x1fab2000e50>,\n",
       " <__main__.Player at 0x1fab28e6d60>,\n",
       " <__main__.Player at 0x1fab28860d0>,\n",
       " <__main__.Player at 0x1fab1fd7880>,\n",
       " <__main__.Player at 0x1fab2886100>,\n",
       " <__main__.Player at 0x1fab1ff2820>,\n",
       " <__main__.Player at 0x1fab2886640>,\n",
       " <__main__.Player at 0x1fab25b95e0>]"
      ]
     },
     "execution_count": 41,
     "metadata": {},
     "output_type": "execute_result"
    }
   ],
   "source": [
    "GA(df, 14)"
   ]
  },
  {
   "cell_type": "code",
   "execution_count": 42,
   "metadata": {},
   "outputs": [
    {
     "name": "stdout",
     "output_type": "stream",
     "text": [
      "Munir GK 73\n",
      "M. Bard LB 72\n",
      "I. Traoré CB 75\n",
      "L. Koscielny CB 78\n",
      "N. Boushal RB 62\n",
      "M. Brozović CDM 84\n",
      "D. Kohr CM 75\n",
      "A. Hjulsager CAM 73\n",
      "J. Quiñones LW 68\n",
      "Matheus Bardeira ST 78\n",
      "Santi da Bruma RW 72\n"
     ]
    }
   ],
   "source": [
    "for player in best_ind:\n",
    "    print(player.name, player.position, player.overall)"
   ]
  }
 ],
 "metadata": {
  "kernelspec": {
   "display_name": "Python 3",
   "language": "python",
   "name": "python3"
  },
  "language_info": {
   "codemirror_mode": {
    "name": "ipython",
    "version": 3
   },
   "file_extension": ".py",
   "mimetype": "text/x-python",
   "name": "python",
   "nbconvert_exporter": "python",
   "pygments_lexer": "ipython3",
   "version": "3.8.3"
  }
 },
 "nbformat": 4,
 "nbformat_minor": 4
}
